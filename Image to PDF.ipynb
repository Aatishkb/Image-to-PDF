{
 "cells": [
  {
   "cell_type": "markdown",
   "id": "89d61789-b748-4587-bb75-bcf58fce4485",
   "metadata": {},
   "source": [
    "# Image to PDF"
   ]
  },
  {
   "cell_type": "code",
   "execution_count": 4,
   "id": "bd6601cb-2903-4b26-b82e-9c33d5de5fb8",
   "metadata": {},
   "outputs": [],
   "source": [
    "from PIL import Image\n",
    "from reportlab.lib.pagesizes import letter\n",
    "from reportlab.pdfgen import canvas\n",
    "\n",
    "def convert_image_to_pdf(image_path, pdf_path):\n",
    "    # Open the image using PIL\n",
    "    img = Image.open(image_path)\n",
    "    \n",
    "    # Calculate scaling factor to fit the image within the PDF page\n",
    "    scale = min(letter[0] / img.width, letter[1] / img.height)\n",
    "    \n",
    "    # Calculate the new size of the image\n",
    "    new_width = img.width * scale\n",
    "    new_height = img.height * scale\n",
    "    \n",
    "    # Create a PDF canvas using reportlab\n",
    "    c = canvas.Canvas(pdf_path, pagesize=letter)\n",
    "    \n",
    "    # Draw the image on the PDF canvas\n",
    "    c.drawImage(image_path, 0, 0, width=new_width, height=new_height)\n",
    "    \n",
    "    # Save the PDF\n",
    "    c.save()"
   ]
  },
  {
   "cell_type": "code",
   "execution_count": null,
   "id": "30c6a062-f382-4508-b177-c0250e726a8e",
   "metadata": {},
   "outputs": [],
   "source": [
    "# convert_image_to_pdf: This is the name of the function we're calling. It's defined earlier in the code and takes two arguments: the path to the image file and the path where the PDF file will be saved.\n",
    "convert_image_to_pdf(r\"C:\\Users\\kumar\\Desktop\\house.png\", \"output.pdf\")"
   ]
  }
 ],
 "metadata": {
  "kernelspec": {
   "display_name": "Python 3 (ipykernel)",
   "language": "python",
   "name": "python3"
  },
  "language_info": {
   "codemirror_mode": {
    "name": "ipython",
    "version": 3
   },
   "file_extension": ".py",
   "mimetype": "text/x-python",
   "name": "python",
   "nbconvert_exporter": "python",
   "pygments_lexer": "ipython3",
   "version": "3.11.1"
  }
 },
 "nbformat": 4,
 "nbformat_minor": 5
}
